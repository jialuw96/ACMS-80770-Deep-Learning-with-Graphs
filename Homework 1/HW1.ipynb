{
 "cells": [
  {
   "cell_type": "code",
   "execution_count": 1,
   "id": "9bd3dccb",
   "metadata": {},
   "outputs": [],
   "source": [
    "import networkx as nx\n",
    "import matplotlib.pyplot as plt\n",
    "import numpy as np\n",
    "from networkx.algorithms import bipartite\n",
    "from networkx.generators.random_graphs import erdos_renyi_graph\n",
    "import copy"
   ]
  },
  {
   "cell_type": "code",
   "execution_count": 2,
   "id": "86742cbe",
   "metadata": {},
   "outputs": [],
   "source": [
    "# -- Initialize graphs\n",
    "seed = 30\n",
    "G = nx.florentine_families_graph()\n",
    "nodes = G.nodes()\n",
    "\n",
    "layout = nx.spring_layout(G, seed=seed)"
   ]
  },
  {
   "cell_type": "code",
   "execution_count": 3,
   "id": "67fae527",
   "metadata": {},
   "outputs": [],
   "source": [
    "Nnodes = len(nodes)\n",
    "\n",
    "# map node index to its name\n",
    "MapNode = {}\n",
    "for i in range(Nnodes):\n",
    "    MapNode[i] = list(nodes)[i]\n",
    "    \n",
    "# adjacency matrix\n",
    "A = np.zeros((Nnodes, Nnodes))\n",
    "\n",
    "for i in range(Nnodes):\n",
    "    for j in range(i+1, Nnodes):\n",
    "        if ((MapNode[i], MapNode[j]) in list(G.edges)) or ((MapNode[j], MapNode[i]) in list(G.edges)):\n",
    "            A[i,j], A[j,i] = 1, 1"
   ]
  },
  {
   "cell_type": "code",
   "execution_count": 4,
   "id": "6b314865",
   "metadata": {},
   "outputs": [],
   "source": [
    "# compute commen neighbour and total distinct\n",
    "Common = np.zeros((Nnodes, Nnodes))\n",
    "Total = np.zeros((Nnodes, Nnodes))\n",
    "\n",
    "# common neighbours = A[i]@A[j]\n",
    "for i in range(Nnodes):\n",
    "    for j in range(i+1, Nnodes):\n",
    "        Common[i,j] = Common[j,i] = A[i]@A[j]\n",
    "\n",
    "\n",
    "# total neighbours = i neighbours + j neibours - common neighbours\n",
    "for i in range(Nnodes):\n",
    "    for j in range(i+1, Nnodes):\n",
    "        Total[i,j] = Total[j,i] = sum(A[i]) + sum(A[j]) - Common[i,j]\n",
    "        "
   ]
  },
  {
   "cell_type": "code",
   "execution_count": 5,
   "id": "bec03f1b",
   "metadata": {},
   "outputs": [],
   "source": [
    "# compute similarity\n",
    "Similar = np.zeros((Nnodes, Nnodes))\n",
    "\n",
    "# add tuples containing similarity\n",
    "# similarity = common/total \n",
    "pred = []\n",
    "for i in range(Nnodes):\n",
    "    for j in range(i+1, Nnodes):\n",
    "        Similar[i,j] = Similar[j,i] = Common[i,j]/Total[i,j]\n",
    "        pred.append((MapNode[i], MapNode[j], Similar[i,j]))"
   ]
  },
  {
   "cell_type": "code",
   "execution_count": 6,
   "id": "1d7ea112",
   "metadata": {},
   "outputs": [],
   "source": [
    "# -- keep a copy of edges in the graph\n",
    "old_edges = copy.deepcopy(G.edges())"
   ]
  },
  {
   "cell_type": "code",
   "execution_count": 7,
   "id": "f6bb38d4",
   "metadata": {},
   "outputs": [
    {
     "name": "stdout",
     "output_type": "stream",
     "text": [
      "(Acciaiuoli, Medici) -> 0.00000000\n",
      "(Acciaiuoli, Castellani) -> 0.00000000\n",
      "(Acciaiuoli, Peruzzi) -> 0.00000000\n",
      "(Acciaiuoli, Strozzi) -> 0.00000000\n",
      "(Acciaiuoli, Barbadori) -> 0.50000000\n",
      "(Acciaiuoli, Ridolfi) -> 0.33333333\n",
      "(Acciaiuoli, Tornabuoni) -> 0.33333333\n",
      "(Acciaiuoli, Albizzi) -> 0.33333333\n",
      "(Acciaiuoli, Salviati) -> 0.50000000\n",
      "(Acciaiuoli, Pazzi) -> 0.00000000\n",
      "(Acciaiuoli, Bischeri) -> 0.00000000\n",
      "(Acciaiuoli, Guadagni) -> 0.00000000\n",
      "(Acciaiuoli, Ginori) -> 0.00000000\n",
      "(Acciaiuoli, Lamberteschi) -> 0.00000000\n",
      "(Medici, Castellani) -> 0.12500000\n",
      "(Medici, Peruzzi) -> 0.00000000\n",
      "(Medici, Strozzi) -> 0.11111111\n",
      "(Medici, Barbadori) -> 0.00000000\n",
      "(Medici, Ridolfi) -> 0.12500000\n",
      "(Medici, Tornabuoni) -> 0.12500000\n",
      "(Medici, Albizzi) -> 0.00000000\n",
      "(Medici, Salviati) -> 0.00000000\n",
      "(Medici, Pazzi) -> 0.16666667\n",
      "(Medici, Bischeri) -> 0.00000000\n",
      "(Medici, Guadagni) -> 0.25000000\n",
      "(Medici, Ginori) -> 0.16666667\n",
      "(Medici, Lamberteschi) -> 0.00000000\n",
      "(Castellani, Peruzzi) -> 0.20000000\n",
      "(Castellani, Strozzi) -> 0.16666667\n",
      "(Castellani, Barbadori) -> 0.00000000\n",
      "(Castellani, Ridolfi) -> 0.20000000\n",
      "(Castellani, Tornabuoni) -> 0.00000000\n",
      "(Castellani, Albizzi) -> 0.00000000\n",
      "(Castellani, Salviati) -> 0.00000000\n",
      "(Castellani, Pazzi) -> 0.00000000\n",
      "(Castellani, Bischeri) -> 0.50000000\n",
      "(Castellani, Guadagni) -> 0.00000000\n",
      "(Castellani, Ginori) -> 0.00000000\n",
      "(Castellani, Lamberteschi) -> 0.00000000\n",
      "(Peruzzi, Strozzi) -> 0.40000000\n",
      "(Peruzzi, Barbadori) -> 0.25000000\n",
      "(Peruzzi, Ridolfi) -> 0.20000000\n",
      "(Peruzzi, Tornabuoni) -> 0.00000000\n",
      "(Peruzzi, Albizzi) -> 0.00000000\n",
      "(Peruzzi, Salviati) -> 0.00000000\n",
      "(Peruzzi, Pazzi) -> 0.00000000\n",
      "(Peruzzi, Bischeri) -> 0.20000000\n",
      "(Peruzzi, Guadagni) -> 0.16666667\n",
      "(Peruzzi, Ginori) -> 0.00000000\n",
      "(Peruzzi, Lamberteschi) -> 0.00000000\n",
      "(Strozzi, Barbadori) -> 0.20000000\n",
      "(Strozzi, Ridolfi) -> 0.00000000\n",
      "(Strozzi, Tornabuoni) -> 0.16666667\n",
      "(Strozzi, Albizzi) -> 0.00000000\n",
      "(Strozzi, Salviati) -> 0.00000000\n",
      "(Strozzi, Pazzi) -> 0.00000000\n",
      "(Strozzi, Bischeri) -> 0.16666667\n",
      "(Strozzi, Guadagni) -> 0.14285714\n",
      "(Strozzi, Ginori) -> 0.00000000\n",
      "(Strozzi, Lamberteschi) -> 0.00000000\n",
      "(Barbadori, Ridolfi) -> 0.25000000\n",
      "(Barbadori, Tornabuoni) -> 0.25000000\n",
      "(Barbadori, Albizzi) -> 0.25000000\n",
      "(Barbadori, Salviati) -> 0.33333333\n",
      "(Barbadori, Pazzi) -> 0.00000000\n",
      "(Barbadori, Bischeri) -> 0.00000000\n",
      "(Barbadori, Guadagni) -> 0.00000000\n",
      "(Barbadori, Ginori) -> 0.00000000\n",
      "(Barbadori, Lamberteschi) -> 0.00000000\n",
      "(Ridolfi, Tornabuoni) -> 0.20000000\n",
      "(Ridolfi, Albizzi) -> 0.20000000\n",
      "(Ridolfi, Salviati) -> 0.25000000\n",
      "(Ridolfi, Pazzi) -> 0.00000000\n",
      "(Ridolfi, Bischeri) -> 0.20000000\n",
      "(Ridolfi, Guadagni) -> 0.16666667\n",
      "(Ridolfi, Ginori) -> 0.00000000\n",
      "(Ridolfi, Lamberteschi) -> 0.00000000\n",
      "(Tornabuoni, Albizzi) -> 0.50000000\n",
      "(Tornabuoni, Salviati) -> 0.25000000\n",
      "(Tornabuoni, Pazzi) -> 0.00000000\n",
      "(Tornabuoni, Bischeri) -> 0.20000000\n",
      "(Tornabuoni, Guadagni) -> 0.00000000\n",
      "(Tornabuoni, Ginori) -> 0.00000000\n",
      "(Tornabuoni, Lamberteschi) -> 0.33333333\n",
      "(Albizzi, Salviati) -> 0.25000000\n",
      "(Albizzi, Pazzi) -> 0.00000000\n",
      "(Albizzi, Bischeri) -> 0.20000000\n",
      "(Albizzi, Guadagni) -> 0.00000000\n",
      "(Albizzi, Ginori) -> 0.00000000\n",
      "(Albizzi, Lamberteschi) -> 0.33333333\n",
      "(Salviati, Pazzi) -> 0.00000000\n",
      "(Salviati, Bischeri) -> 0.00000000\n",
      "(Salviati, Guadagni) -> 0.00000000\n",
      "(Salviati, Ginori) -> 0.00000000\n",
      "(Salviati, Lamberteschi) -> 0.00000000\n",
      "(Pazzi, Bischeri) -> 0.00000000\n",
      "(Pazzi, Guadagni) -> 0.00000000\n",
      "(Pazzi, Ginori) -> 0.00000000\n",
      "(Pazzi, Lamberteschi) -> 0.00000000\n",
      "(Bischeri, Guadagni) -> 0.00000000\n",
      "(Bischeri, Ginori) -> 0.00000000\n",
      "(Bischeri, Lamberteschi) -> 0.33333333\n",
      "(Guadagni, Ginori) -> 0.25000000\n",
      "(Guadagni, Lamberteschi) -> 0.00000000\n",
      "(Ginori, Lamberteschi) -> 0.00000000\n"
     ]
    }
   ],
   "source": [
    "# -- add new edges representing similarities.\n",
    "new_edges, metric = [], []\n",
    "for u, v, p in pred:\n",
    "    G.add_edge(u, v)\n",
    "    print(f\"({u}, {v}) -> {p:.8f}\")\n",
    "    new_edges.append((u, v))\n",
    "    metric.append(p)"
   ]
  },
  {
   "cell_type": "code",
   "execution_count": 8,
   "id": "bf8288e9",
   "metadata": {},
   "outputs": [
    {
     "data": {
      "image/png": "[encoded data removed]",
      "text/plain": [
       "<Figure size 432x288 with 2 Axes>"
      ]
     },
     "metadata": {
      "needs_background": "light"
     },
     "output_type": "display_data"
    }
   ],
   "source": [
    "# -- plot Florentine Families graph\n",
    "nx.draw_networkx_nodes(G, nodelist=nodes, label=nodes, pos=layout, node_size=600)\n",
    "nx.draw_networkx_edges(G, edgelist=old_edges, pos=layout, edge_color='gray', width=4)\n",
    "\n",
    "\n",
    "# add all edges containing ginori to a list\n",
    "# add all similarity of ginori with neighbours to a list \n",
    "new_edges_ginori = []\n",
    "metric_ginori = []\n",
    "for i, term in enumerate(new_edges):\n",
    "    if 'Ginori' in term:\n",
    "        new_edges_ginori.append(new_edges[i])\n",
    "        metric_ginori.append(metric[i])\n",
    "\n",
    "# -- plot edges representing similarity\n",
    "\"\"\"\n",
    "    This example is randomly plotting similarities between 8 pairs of nodes in the graph. \n",
    "    Identify the ”Ginori”\n",
    "\"\"\"\n",
    "ne = nx.draw_networkx_edges(G, edgelist=new_edges_ginori, pos=layout, edge_color=np.asarray(metric_ginori), width=4, alpha=0.7)\n",
    "plt.colorbar(ne)\n",
    "plt.axis('off')\n",
    "plt.show()"
   ]
  }
 ],
 "metadata": {
  "kernelspec": {
   "display_name": "Python 3 (ipykernel)",
   "language": "python",
   "name": "python3"
  },
  "language_info": {
   "codemirror_mode": {
    "name": "ipython",
    "version": 3
   },
   "file_extension": ".py",
   "mimetype": "text/x-python",
   "name": "python",
   "nbconvert_exporter": "python",
   "pygments_lexer": "ipython3",
   "version": "3.9.7"
  }
 },
 "nbformat": 4,
 "nbformat_minor": 5
}
