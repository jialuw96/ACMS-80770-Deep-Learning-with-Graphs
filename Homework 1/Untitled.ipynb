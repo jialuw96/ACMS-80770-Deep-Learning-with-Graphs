{
 "cells": [
  {
   "cell_type": "code",
   "execution_count": 1,
   "id": "0979b8eb",
   "metadata": {},
   "outputs": [
    {
     "name": "stdout",
     "output_type": "stream",
     "text": [
      "[('Acciaiuoli', 'Medici'), ('Medici', 'Barbadori'), ('Medici', 'Ridolfi'), ('Medici', 'Tornabuoni'), ('Medici', 'Albizzi'), ('Medici', 'Salviati'), ('Castellani', 'Peruzzi'), ('Castellani', 'Strozzi'), ('Castellani', 'Barbadori'), ('Peruzzi', 'Strozzi'), ('Peruzzi', 'Bischeri'), ('Strozzi', 'Ridolfi'), ('Strozzi', 'Bischeri'), ('Ridolfi', 'Tornabuoni'), ('Tornabuoni', 'Guadagni'), ('Albizzi', 'Ginori'), ('Albizzi', 'Guadagni'), ('Salviati', 'Pazzi'), ('Bischeri', 'Guadagni'), ('Guadagni', 'Lamberteschi')]\n",
      "[('Castellani', 'Peruzzi'), ('Castellani', 'Strozzi'), ('Castellani', 'Barbadori')]\n",
      "[('Bischeri', 'Peruzzi'), ('Bischeri', 'Strozzi'), ('Bischeri', 'Guadagni')]\n"
     ]
    }
   ],
   "source": [
    "\"\"\"\n",
    "ACMS 80770-03: Deep Learning with Graphs\n",
    "Instructor: Navid Shervani-Tabar\n",
    "Fall 2022\n",
    "University of Notre Dame\n",
    "\n",
    "Homework 1: Programming assignment\n",
    "\"\"\"\n",
    "\n",
    "import networkx as nx\n",
    "import matplotlib.pyplot as plt\n",
    "import numpy as np\n",
    "from networkx.algorithms import bipartite\n",
    "from networkx.generators.random_graphs import erdos_renyi_graph\n",
    "import copy\n",
    "\n",
    "\n",
    "# -- Initialize graphs\n",
    "seed = 30\n",
    "G = nx.florentine_families_graph()\n",
    "nodes = G.nodes()\n",
    "\n",
    "layout = nx.spring_layout(G, seed=seed)\n",
    "\n",
    "print(G.edges())\n",
    "\n",
    "print(G.edges('Castellani'))\n",
    "print(G.edges('Bischeri'))\n",
    "\n",
    "# -- compute jaccard's similarity\n",
    "\"\"\"\n",
    "    This example is using NetwrokX's native implementation to compute similarities.\n",
    "    Write a code to compute Jaccard's similarity and replace with this function.\n",
    "\"\"\"\n",
    "pred = nx.jaccard_coefficient(G)\n",
    "\n",
    "\n",
    "# -- keep a copy of edges in the graph\n",
    "old_edges = copy.deepcopy(G.edges())\n",
    "\n",
    "\n",
    "\n"
   ]
  },
  {
   "cell_type": "code",
   "execution_count": 5,
   "id": "068a0729",
   "metadata": {},
   "outputs": [
    {
     "name": "stdout",
     "output_type": "stream",
     "text": [
      "(Lamberteschi, Bischeri) -> 0.33333333\n",
      "(Lamberteschi, Peruzzi) -> 0.25000000\n",
      "(Lamberteschi, Albizzi) -> 0.20000000\n",
      "(Lamberteschi, Tornabuoni) -> 0.16666667\n",
      "(Lamberteschi, Salviati) -> 0.00000000\n",
      "(Lamberteschi, Ginori) -> 0.16666667\n",
      "(Lamberteschi, Castellani) -> 0.11111111\n",
      "(Lamberteschi, Ridolfi) -> 0.10000000\n",
      "(Lamberteschi, Pazzi) -> 0.11111111\n",
      "(Lamberteschi, Acciaiuoli) -> 0.00000000\n",
      "(Lamberteschi, Strozzi) -> 0.36363636\n",
      "(Lamberteschi, Barbadori) -> 0.07692308\n",
      "(Lamberteschi, Medici) -> 0.46153846\n",
      "(Bischeri, Salviati) -> 0.16666667\n",
      "(Bischeri, Albizzi) -> 0.28571429\n",
      "(Bischeri, Tornabuoni) -> 0.25000000\n",
      "(Bischeri, Ginori) -> 0.28571429\n",
      "(Bischeri, Castellani) -> 0.33333333\n",
      "(Bischeri, Ridolfi) -> 0.30000000\n",
      "(Bischeri, Pazzi) -> 0.20000000\n",
      "(Bischeri, Acciaiuoli) -> 0.08333333\n",
      "(Bischeri, Barbadori) -> 0.15384615\n",
      "(Bischeri, Medici) -> 0.53846154\n",
      "(Peruzzi, Guadagni) -> 0.33333333\n",
      "(Peruzzi, Salviati) -> 0.28571429\n",
      "(Peruzzi, Tornabuoni) -> 0.37500000\n",
      "(Peruzzi, Ginori) -> 0.25000000\n",
      "(Peruzzi, Albizzi) -> 0.44444444\n",
      "(Peruzzi, Ridolfi) -> 0.40000000\n",
      "(Peruzzi, Pazzi) -> 0.30000000\n",
      "(Peruzzi, Acciaiuoli) -> 0.16666667\n",
      "(Peruzzi, Barbadori) -> 0.23076923\n",
      "(Peruzzi, Medici) -> 0.61538462\n",
      "(Albizzi, Salviati) -> 0.57142857\n",
      "(Albizzi, Tornabuoni) -> 0.62500000\n",
      "(Albizzi, Ridolfi) -> 0.55555556\n",
      "(Albizzi, Castellani) -> 0.27272727\n",
      "(Albizzi, Pazzi) -> 0.40000000\n",
      "(Albizzi, Acciaiuoli) -> 0.36363636\n",
      "(Albizzi, Strozzi) -> 0.41666667\n",
      "(Albizzi, Barbadori) -> 0.38461538\n",
      "(Tornabuoni, Salviati) -> 0.62500000\n",
      "(Tornabuoni, Ginori) -> 0.50000000\n",
      "(Tornabuoni, Castellani) -> 0.36363636\n",
      "(Tornabuoni, Pazzi) -> 0.50000000\n",
      "(Tornabuoni, Acciaiuoli) -> 0.45454545\n",
      "(Tornabuoni, Strozzi) -> 0.50000000\n",
      "(Tornabuoni, Barbadori) -> 0.46153846\n",
      "(Salviati, Guadagni) -> 0.71428571\n",
      "(Salviati, Ginori) -> 0.62500000\n",
      "(Salviati, Ridolfi) -> 0.60000000\n",
      "(Salviati, Castellani) -> 0.41666667\n",
      "(Salviati, Acciaiuoli) -> 0.54545455\n",
      "(Salviati, Strozzi) -> 0.58333333\n",
      "(Salviati, Barbadori) -> 0.53846154\n",
      "(Guadagni, Ginori) -> 1.00000000\n",
      "(Guadagni, Ridolfi) -> 0.66666667\n",
      "(Guadagni, Castellani) -> 0.60000000\n",
      "(Guadagni, Pazzi) -> 0.66666667\n",
      "(Guadagni, Acciaiuoli) -> 0.54545455\n",
      "(Guadagni, Strozzi) -> 0.72727273\n",
      "(Guadagni, Barbadori) -> 0.53846154\n",
      "(Guadagni, Medici) -> 0.69230769\n",
      "(Ginori, Ridolfi) -> 0.77777778\n",
      "(Ginori, Castellani) -> 0.70000000\n",
      "(Ginori, Pazzi) -> 0.77777778\n",
      "(Ginori, Acciaiuoli) -> 0.63636364\n",
      "(Ginori, Strozzi) -> 0.81818182\n",
      "(Ginori, Barbadori) -> 0.61538462\n",
      "(Ginori, Medici) -> 0.76923077\n",
      "(Castellani, Pazzi) -> 0.80000000\n",
      "(Castellani, Acciaiuoli) -> 0.66666667\n",
      "(Castellani, Ridolfi) -> 0.69230769\n",
      "(Castellani, Medici) -> 0.84615385\n",
      "(Ridolfi, Pazzi) -> 0.81818182\n",
      "(Ridolfi, Acciaiuoli) -> 0.83333333\n",
      "(Ridolfi, Barbadori) -> 0.76923077\n",
      "(Pazzi, Medici) -> 0.83333333\n",
      "(Pazzi, Acciaiuoli) -> 1.00000000\n",
      "(Pazzi, Barbadori) -> 0.91666667\n",
      "(Pazzi, Strozzi) -> 0.76923077\n",
      "(Acciaiuoli, Strozzi) -> 0.91666667\n",
      "(Acciaiuoli, Barbadori) -> 0.92307692\n",
      "(Strozzi, Medici) -> 0.92307692\n",
      "(Strozzi, Barbadori) -> 1.00000000\n"
     ]
    }
   ],
   "source": [
    "# -- add new edges representing similarities.\n",
    "new_edges, metric = [], []\n",
    "for u, v, p in pred:\n",
    "    G.add_edge(u, v)\n",
    "    print(f\"({u}, {v}) -> {p:.8f}\")\n",
    "    new_edges.append((u, v))\n",
    "    metric.append(p)"
   ]
  },
  {
   "cell_type": "code",
   "execution_count": 6,
   "id": "9ac15792",
   "metadata": {},
   "outputs": [
    {
     "name": "stdout",
     "output_type": "stream",
     "text": [
      "[('Ridolfi', 'Medici'), ('Ridolfi', 'Strozzi'), ('Ridolfi', 'Tornabuoni')]\n",
      "[('Barbadori', 'Castellani'), ('Barbadori', 'Medici')]\n"
     ]
    }
   ],
   "source": [
    "print(old_edges('Ridolfi'))\n",
    "print(old_edges('Barbadori'))"
   ]
  },
  {
   "cell_type": "code",
   "execution_count": null,
   "id": "cf741ca9",
   "metadata": {},
   "outputs": [],
   "source": [
    "# -- plot Florentine Families graph\n",
    "nx.draw_networkx_nodes(G, nodelist=nodes, label=nodes, pos=layout, node_size=600)\n",
    "nx.draw_networkx_edges(G, edgelist=old_edges, pos=layout, edge_color='gray', width=4)\n",
    "\n"
   ]
  },
  {
   "cell_type": "code",
   "execution_count": null,
   "id": "4693b1ec",
   "metadata": {},
   "outputs": [],
   "source": [
    "# -- plot edges representing similarity\n",
    "\"\"\"\n",
    "    This example is randomly plotting similarities between 8 pairs of nodes in the graph. \n",
    "    Identify the ”Ginori”\n",
    "\"\"\"\n",
    "ne = nx.draw_networkx_edges(G, edgelist=new_edges[:8], pos=layout, edge_color=np.asarray(metric[:8]), width=4, alpha=0.7)\n",
    "plt.colorbar(ne)\n",
    "plt.axis('off')\n",
    "plt.show()\n"
   ]
  },
  {
   "cell_type": "code",
   "execution_count": null,
   "id": "57573f1c",
   "metadata": {},
   "outputs": [],
   "source": []
  }
 ],
 "metadata": {
  "kernelspec": {
   "display_name": "Python 3 (ipykernel)",
   "language": "python",
   "name": "python3"
  },
  "language_info": {
   "codemirror_mode": {
    "name": "ipython",
    "version": 3
   },
   "file_extension": ".py",
   "mimetype": "text/x-python",
   "name": "python",
   "nbconvert_exporter": "python",
   "pygments_lexer": "ipython3",
   "version": "3.9.7"
  }
 },
 "nbformat": 4,
 "nbformat_minor": 5
}
